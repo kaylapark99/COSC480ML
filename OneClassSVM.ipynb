{
 "cells": [
  {
   "cell_type": "code",
   "execution_count": 1,
   "id": "chief-pride",
   "metadata": {},
   "outputs": [],
   "source": [
    "import matplotlib.pyplot as plt\n",
    "from sklearn.svm import OneClassSVM\n",
    "from sklearn.preprocessing import StandardScaler\n",
    "import pandas as pd\n",
    "import sklearn\n",
    "import seaborn as sns\n",
    "from numpy import where\n",
    "from sklearn.decomposition import PCA\n",
    "import matplotlib.pyplot as plt "
   ]
  },
  {
   "cell_type": "code",
   "execution_count": 2,
   "id": "involved-ratio",
   "metadata": {},
   "outputs": [],
   "source": [
    "X = pd.read_csv('CryptoFortress.csv')\n",
    "\n",
    "#X.drop(X.tail(30000).index,inplace=True)\n",
    "\n",
    "X.drop([\"No.\"], axis=1, inplace=True)\n",
    "X = X.head(1000)"
   ]
  },
  {
   "cell_type": "code",
   "execution_count": 3,
   "id": "integral-prevention",
   "metadata": {},
   "outputs": [
    {
     "name": "stdout",
     "output_type": "stream",
     "text": [
      "       Time  Length    0    1    2    3    4    5    6    7  ...  679  680  \\\n",
      "0  0.000000      42  0.0  0.0  0.0  0.0  1.0  0.0  0.0  0.0  ...  0.0  0.0   \n",
      "1  0.000813      78  0.0  0.0  0.0  1.0  0.0  0.0  0.0  0.0  ...  0.0  0.0   \n",
      "2  0.001054      70  0.0  0.0  0.0  0.0  0.0  0.0  0.0  0.0  ...  0.0  0.0   \n",
      "3  0.001205      90  0.0  0.0  0.0  0.0  0.0  0.0  0.0  0.0  ...  0.0  0.0   \n",
      "4  0.001548     145  0.0  0.0  0.0  0.0  0.0  0.0  0.0  0.0  ...  0.0  0.0   \n",
      "\n",
      "   681  682  683  684  685  686  687  688  \n",
      "0  0.0  0.0  0.0  0.0  0.0  0.0  0.0  0.0  \n",
      "1  0.0  0.0  0.0  0.0  0.0  0.0  0.0  0.0  \n",
      "2  0.0  0.0  0.0  0.0  0.0  0.0  0.0  0.0  \n",
      "3  0.0  0.0  0.0  0.0  0.0  0.0  0.0  0.0  \n",
      "4  0.0  0.0  0.0  0.0  0.0  0.0  0.0  0.0  \n",
      "\n",
      "[5 rows x 691 columns]\n"
     ]
    }
   ],
   "source": [
    "# List of the column names with nominal features that should be one-hot encoded\n",
    "onehot_features = ['Source', 'Destination', 'Protocol', 'Info']\n",
    "\n",
    "# One-hot encode these features \n",
    "onehot = sklearn.preprocessing.OneHotEncoder(sparse=False) # we want a non-sparse matrix for concatenation\n",
    "encoded = onehot.fit_transform(X[onehot_features])\n",
    "encoded = pd.DataFrame(encoded) # the output of the encoding is a NumPy array, but we want it as a Pandas DataFrame\n",
    "\n",
    "# One-hot encoding produces an output with more columns than the input, so we can't just reassign the output to X. \n",
    "# There are a few ways to put the encoded features in the original dataframe, but none of them are that elegant, so we'll just drop the old columns and concatenate the new\n",
    "X.drop(onehot_features, axis=1, inplace=True)\n",
    "X = pd.concat([X, encoded], axis=1)\n",
    "\n",
    "# print encoded X for inspection\n",
    "print(X.head(5))"
   ]
  },
  {
   "cell_type": "code",
   "execution_count": 15,
   "id": "surrounded-death",
   "metadata": {},
   "outputs": [
    {
     "name": "stdout",
     "output_type": "stream",
     "text": [
      "[9.99676326e-01 3.15063990e-04]\n"
     ]
    }
   ],
   "source": [
    "pca = PCA(2)\n",
    "X1 = pca.fit_transform(X)"
   ]
  },
  {
   "cell_type": "code",
   "execution_count": 19,
   "id": "exciting-attribute",
   "metadata": {},
   "outputs": [],
   "source": [
    "clf = OneClassSVM(kernel='rbf', gamma=0.0001, nu=0.03).fit(X1)\n",
    "pred = clf.predict(X1)"
   ]
  },
  {
   "cell_type": "code",
   "execution_count": 20,
   "id": "handed-essay",
   "metadata": {},
   "outputs": [],
   "source": [
    "anom_index = where(pred==-1)\n",
    "values = X1[anom_index]"
   ]
  },
  {
   "cell_type": "code",
   "execution_count": 21,
   "id": "permanent-conservative",
   "metadata": {},
   "outputs": [
    {
     "data": {
      "image/png": "[encoded data removed]",
      "text/plain": [
       "<Figure size 432x288 with 1 Axes>"
      ]
     },
     "metadata": {
      "needs_background": "light"
     },
     "output_type": "display_data"
    }
   ],
   "source": [
    "plt.scatter(X1[:,0], X1[:,1], color='b')\n",
    "plt.scatter(values[:,0], values[:,1], color='r')\n",
    "plt.show()"
   ]
  }
 ],
 "metadata": {
  "kernelspec": {
   "display_name": "Python 3",
   "language": "python",
   "name": "python3"
  },
  "language_info": {
   "codemirror_mode": {
    "name": "ipython",
    "version": 3
   },
   "file_extension": ".py",
   "mimetype": "text/x-python",
   "name": "python",
   "nbconvert_exporter": "python",
   "pygments_lexer": "ipython3",
   "version": "3.8.5"
  }
 },
 "nbformat": 4,
 "nbformat_minor": 5
}
