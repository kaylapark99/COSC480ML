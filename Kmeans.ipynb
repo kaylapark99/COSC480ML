{
 "cells": [
  {
   "cell_type": "code",
   "execution_count": 1,
   "id": "prostate-drunk",
   "metadata": {},
   "outputs": [],
   "source": [
    "import matplotlib.pyplot as plt\n",
    "#from kneed import KneeLocator\n",
    "from sklearn.cluster import KMeans\n",
    "from sklearn.metrics import silhouette_score\n",
    "from sklearn.preprocessing import MinMaxScaler\n",
    "import pandas as pd\n",
    "import sklearn\n",
    "from sklearn.manifold import TSNE\n",
    "from sklearn.decomposition import PCA\n",
    "import time"
   ]
  },
  {
   "cell_type": "code",
   "execution_count": 2,
   "id": "entire-sight",
   "metadata": {},
   "outputs": [],
   "source": [
    "kmeans = KMeans(\n",
    "    init=\"random\",\n",
    "    n_clusters=3,\n",
    "    n_init=10,\n",
    "    max_iter=300,\n",
    "    random_state=42\n",
    ")"
   ]
  },
  {
   "cell_type": "code",
   "execution_count": 3,
   "id": "conservative-baseball",
   "metadata": {},
   "outputs": [],
   "source": [
    "X = pd.read_csv('truncatedHashtx.1.csv')\n",
    "X = X.head(50000)\n",
    "X.drop([\"No.\"], axis=1, inplace=True)"
   ]
  },
  {
   "cell_type": "code",
   "execution_count": 4,
   "id": "adjusted-above",
   "metadata": {},
   "outputs": [],
   "source": [
    "# List of the column names with nominal features that should be one-hot encoded\n",
    "onehot_features = ['Source', 'Destination', 'Protocol', 'Info']\n",
    "\n",
    "# One-hot encode these features \n",
    "onehot = sklearn.preprocessing.OneHotEncoder(sparse=False) # we want a non-sparse matrix for concatenation\n",
    "encoded = onehot.fit_transform(X[onehot_features])\n",
    "encoded = pd.DataFrame(encoded) # the output of the encoding is a NumPy array, but we want it as a Pandas DataFrame\n",
    "\n",
    "# One-hot encoding produces an output with more columns than the input, so we can't just reassign the output to X. \n",
    "# There are a few ways to put the encoded features in the original dataframe, but none of them are that elegant, so we'll just drop the old columns and concatenate the new\n",
    "X.drop(onehot_features, axis=1, inplace=True)\n",
    "X = pd.concat([X, encoded], axis=1)\n",
    "\n",
    "#Scale features\n",
    "scaler = MinMaxScaler()\n",
    "X = scaler.fit_transform(X)"
   ]
  },
  {
   "cell_type": "code",
   "execution_count": 7,
   "id": "brutal-lease",
   "metadata": {},
   "outputs": [
    {
     "data": {
      "text/plain": [
       "(50000, 23934)"
      ]
     },
     "execution_count": 7,
     "metadata": {},
     "output_type": "execute_result"
    }
   ],
   "source": [
    "X.shape"
   ]
  },
  {
   "cell_type": "code",
   "execution_count": null,
   "id": "sacred-offer",
   "metadata": {},
   "outputs": [],
   "source": [
    "# This decides how many clusters we should use based on the SSE graph and the elbow locator\n",
    "kmeans_kwargs = {\n",
    "    \"init\": \"random\",\n",
    "    \"n_init\": 10,\n",
    "    \"max_iter\": 300,\n",
    "    \"random_state\": 42,\n",
    "}\n",
    "\n",
    "# A list holds the SSE values for each k\n",
    "sse = []\n",
    "for k in range(1):\n",
    "    kmeans = KMeans(n_clusters=k, **kmeans_kwargs)\n",
    "    kmeans.fit(X)\n",
    "    sse.append(kmeans.inertia_)"
   ]
  },
  {
   "cell_type": "code",
   "execution_count": null,
   "id": "portable-jamaica",
   "metadata": {},
   "outputs": [],
   "source": [
    " plt.style.use(\"fivethirtyeight\")\n",
    " plt.plot(range(1, 4), sse)\n",
    " plt.xticks(range(1, 4))\n",
    " plt.xlabel(\"Number of Clusters\")\n",
    " plt.ylabel(\"SSE\")\n",
    " plt.show()"
   ]
  },
  {
   "cell_type": "code",
   "execution_count": 8,
   "id": "varied-factor",
   "metadata": {},
   "outputs": [
    {
     "ename": "NameError",
     "evalue": "name 'KneeLocator' is not defined",
     "output_type": "error",
     "traceback": [
      "\u001b[0;31m---------------------------------------------------------------------------\u001b[0m",
      "\u001b[0;31mNameError\u001b[0m                                 Traceback (most recent call last)",
      "\u001b[0;32m<ipython-input-8-8fdf2a7edfe4>\u001b[0m in \u001b[0;36m<module>\u001b[0;34m\u001b[0m\n\u001b[0;32m----> 1\u001b[0;31m kl = KneeLocator(\n\u001b[0m\u001b[1;32m      2\u001b[0m     \u001b[0mrange\u001b[0m\u001b[0;34m(\u001b[0m\u001b[0;36m1\u001b[0m\u001b[0;34m,\u001b[0m \u001b[0;36m11\u001b[0m\u001b[0;34m)\u001b[0m\u001b[0;34m,\u001b[0m \u001b[0msse\u001b[0m\u001b[0;34m,\u001b[0m \u001b[0mcurve\u001b[0m\u001b[0;34m=\u001b[0m\u001b[0;34m\"convex\"\u001b[0m\u001b[0;34m,\u001b[0m \u001b[0mdirection\u001b[0m\u001b[0;34m=\u001b[0m\u001b[0;34m\"decreasing\"\u001b[0m\u001b[0;34m\u001b[0m\u001b[0;34m\u001b[0m\u001b[0m\n\u001b[1;32m      3\u001b[0m )\n\u001b[1;32m      4\u001b[0m \u001b[0;34m\u001b[0m\u001b[0m\n\u001b[1;32m      5\u001b[0m \u001b[0mkl\u001b[0m\u001b[0;34m.\u001b[0m\u001b[0melbow\u001b[0m\u001b[0;34m\u001b[0m\u001b[0;34m\u001b[0m\u001b[0m\n",
      "\u001b[0;31mNameError\u001b[0m: name 'KneeLocator' is not defined"
     ]
    }
   ],
   "source": [
    "kl = KneeLocator(\n",
    "    range(1, 11), sse, curve=\"convex\", direction=\"decreasing\"\n",
    ")\n",
    "\n",
    "kl.elbow"
   ]
  },
  {
   "cell_type": "code",
   "execution_count": null,
   "id": "still-dialogue",
   "metadata": {},
   "outputs": [],
   "source": [
    "start_time = time.time()\n",
    "pca = PCA(2)\n",
    "X1_pca = pca.fit_transform(X)"
   ]
  },
  {
   "cell_type": "code",
   "execution_count": null,
   "id": "coral-extreme",
   "metadata": {},
   "outputs": [],
   "source": [
    "kmeans = KMeans(init=\"random\", n_clusters=3, n_init=10, max_iter=300,random_state=42).fit(X1_pca)\n",
    "label = kmeans.predict(X1_pca)\n",
    "print(time.time() - start_time)"
   ]
  },
  {
   "cell_type": "code",
   "execution_count": null,
   "id": "handmade-rugby",
   "metadata": {},
   "outputs": [],
   "source": [
    "#filter rows of original data\n",
    "filtered_label0 = X1_pca[label == 2]\n",
    "filtered_label1 = X1_pca[label == 5]\n",
    "filtered_label2 = X1_pca[label == 6]\n",
    "print(len(filtered_label0))\n",
    "print(len(filtered_label1))\n",
    "print(len(filtered_label2))\n",
    "\n",
    "plt.title(\"Colgate's Network Data KMeans and PCA\")\n",
    "                     \n",
    "#plotting the results\n",
    "plt.scatter(filtered_label0[:,0] , filtered_label0[:,1] , color = 'red')\n",
    "plt.scatter(filtered_label1[:,0] , filtered_label1[:,1] , color = 'black')\n",
    "plt.scatter(filtered_label2[:,0] , filtered_label2[:,1] , color = 'blue')\n",
    "plt.grid(True)\n",
    "\n",
    "plt.show()"
   ]
  },
  {
   "cell_type": "code",
   "execution_count": null,
   "id": "african-monthly",
   "metadata": {},
   "outputs": [],
   "source": [
    "start_time = time.time()\n",
    "tsne = TSNE(2)\n",
    "X2_tsne = tsne.fit_transform(X)"
   ]
  },
  {
   "cell_type": "code",
   "execution_count": null,
   "id": "searching-graduate",
   "metadata": {},
   "outputs": [],
   "source": [
    "kmeans = KMeans(init=\"random\", n_clusters=3, n_init=10, max_iter=300,random_state=42).fit(X2_tsne)\n",
    "label = kmeans.predict(X2_tsne)\n",
    "print(time.time() - start_time)"
   ]
  },
  {
   "cell_type": "code",
   "execution_count": null,
   "id": "italian-heater",
   "metadata": {},
   "outputs": [],
   "source": [
    "#filter rows of original data\n",
    "filtered_label0 = X2_tsne[label1 == 2]\n",
    "filtered_label1 = X2_tsne[label1 == 5]\n",
    "filtered_label2 = X2_tsne[label1 == 6]\n",
    "print(len(filtered_label0))\n",
    "print(len(filtered_label1))\n",
    "print(len(filtered_label2))\n",
    "\n",
    "plt.title(\"Colgate's Network Data KMeans and t-SNE\")\n",
    "                     \n",
    "#plotting the results\n",
    "plt.scatter(filtered_label0[:,0] , filtered_label0[:,1] , color = 'black')\n",
    "plt.scatter(filtered_label1[:,0] , filtered_label1[:,1] , color = 'red')\n",
    "plt.scatter(filtered_label2[:,0] , filtered_label2[:,1] , color = 'blue')\n",
    "plt.grid(True)\n",
    "\n",
    "plt.show()"
   ]
  },
  {
   "cell_type": "code",
   "execution_count": null,
   "id": "streaming-liabilities",
   "metadata": {},
   "outputs": [],
   "source": []
  }
 ],
 "metadata": {
  "kernelspec": {
   "display_name": "Python 3",
   "language": "python",
   "name": "python3"
  },
  "language_info": {
   "codemirror_mode": {
    "name": "ipython",
    "version": 3
   },
   "file_extension": ".py",
   "mimetype": "text/x-python",
   "name": "python",
   "nbconvert_exporter": "python",
   "pygments_lexer": "ipython3",
   "version": "3.8.5"
  }
 },
 "nbformat": 4,
 "nbformat_minor": 5
}
